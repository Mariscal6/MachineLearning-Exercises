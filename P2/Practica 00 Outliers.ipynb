{
 "cells": [
  {
   "cell_type": "code",
   "execution_count": 60,
   "metadata": {},
   "outputs": [
    {
     "name": "stdout",
     "output_type": "stream",
     "text": [
      "[[ 176.  202.]\n",
      " [ 220.  120.]\n",
      " [ 208.  257.]\n",
      " [ 120.  228.]\n",
      " [ 155.  177.]\n",
      " [ 230.  121.]\n",
      " [ 261.  192.]\n",
      " [ 151.   94.]\n",
      " [ 145.  171.]\n",
      " [ 331.  180.]\n",
      " [ 229.  149.]\n",
      " [ 200.  268.]\n",
      " [ 301.  221.]\n",
      " [ 239.  129.]\n",
      " [ 136.  142.]\n",
      " [ 164.  261.]\n",
      " [ 223.  218.]\n",
      " [ 228.  209.]\n",
      " [ 228.  195.]\n",
      " [ 184.  171.]\n",
      " [ 144.  236.]\n",
      " [ 271.  188.]\n",
      " [ 272.  162.]\n",
      " [ 241.  139.]\n",
      " [ 277.  268.]\n",
      " [ 153.  310.]\n",
      " [ 148.  264.]\n",
      " [ 181.  202.]\n",
      " [ 249.  130.]\n",
      " [ 237.  108.]\n",
      " [ 192.   51.]\n",
      " [ 110.   80.]\n",
      " [  97.  163.]\n",
      " [ 139.  203.]\n",
      " [ 179.  235.]\n",
      " [ 198.  224.]\n",
      " [ 227.  159.]\n",
      " [ 233.  222.]\n",
      " [ 256.  262.]\n",
      " [ 273.  262.]\n",
      " [ 383.    8.]\n",
      " [ 366.  378.]\n",
      " [  24.  384.]\n",
      " [  27.   32.]]\n"
     ]
    }
   ],
   "source": [
    "import numpy as np\n",
    "file_object='outliers'\n",
    "data=np.loadtxt(file_object,delimiter=',',skiprows=0,usecols=[0,1])\n",
    "print data\n",
    "    \n"
   ]
  },
  {
   "cell_type": "code",
   "execution_count": 67,
   "metadata": {},
   "outputs": [
    {
     "name": "stdout",
     "output_type": "stream",
     "text": [
      "Xs= \n",
      "[ 176.  220.  208.  120.  155.  230.  261.  151.  145.  331.  229.  200.\n",
      "  301.  239.  136.  164.  223.  228.  228.  184.  144.  271.  272.  241.\n",
      "  277.  153.  148.  181.  249.  237.  192.  110.   97.  139.  179.  198.\n",
      "  227.  233.  256.  273.  383.  366.   24.   27.]\n",
      "Ys= \n",
      "[ 202.  120.  257.  228.  177.  121.  192.   94.  171.  180.  149.  268.\n",
      "  221.  129.  142.  261.  218.  209.  195.  171.  236.  188.  162.  139.\n",
      "  268.  310.  264.  202.  130.  108.   51.   80.  163.  203.  235.  224.\n",
      "  159.  222.  262.  262.    8.  378.  384.   32.]\n"
     ]
    }
   ],
   "source": [
    "Xs=np.array(data[:,0])\n",
    "Ys=np.array(data[:,1])\n",
    "print \"Xs= \" \n",
    "print Xs\n",
    "print \"Ys= \" \n",
    "print Ys"
   ]
  },
  {
   "cell_type": "code",
   "execution_count": 68,
   "metadata": {},
   "outputs": [
    {
     "data": {
      "image/png": "[encoded data removed]",
      "text/plain": [
       "<matplotlib.figure.Figure at 0x7f801ee9f8d0>"
      ]
     },
     "metadata": {},
     "output_type": "display_data"
    }
   ],
   "source": [
    "import matplotlib.pyplot as plt \n",
    "plt.plot(Xs,Ys,'bo')\n",
    "plt.show()"
   ]
  },
  {
   "cell_type": "code",
   "execution_count": 69,
   "metadata": {},
   "outputs": [
    {
     "name": "stdout",
     "output_type": "stream",
     "text": [
      "[[ 204.68181818  190.34090909]]\n"
     ]
    }
   ],
   "source": [
    "from sklearn.cluster import KMeans\n",
    "k_means = KMeans(n_clusters=1)\n",
    "k_means.fit(data)\n",
    "centroides = k_means.cluster_centers_\n",
    "print centroides"
   ]
  },
  {
   "cell_type": "code",
   "execution_count": 70,
   "metadata": {},
   "outputs": [
    {
     "data": {
      "image/png": "[encoded data removed]",
      "text/plain": [
       "<matplotlib.figure.Figure at 0x7f8006d12a50>"
      ]
     },
     "metadata": {},
     "output_type": "display_data"
    }
   ],
   "source": [
    "import matplotlib.pyplot as plt \n",
    "plt.plot(Xs,Ys,'bo')\n",
    "plt.plot(centroides[:,0],centroides[:,1],'ro')\n",
    "plt.show()"
   ]
  },
  {
   "cell_type": "code",
   "execution_count": 98,
   "metadata": {},
   "outputs": [],
   "source": [
    "from math import sqrt \n",
    " \n",
    "def euclidean(x, y): \n",
    "    return sqrt( sum( [ (xi - yi)**2 for xi, yi in zip(x, y) ] ) )\n",
    "euclideos=[]\n",
    "for x in range(data.size/2):\n",
    "    #print euclidean(data[x,:],centroides[0,:])\n",
    "    euclideos.append(euclidean(data[x,:],centroides[0,:]))   \n",
    "euclideos1 = np.asarray(euclideos)"
   ]
  },
  {
   "cell_type": "code",
   "execution_count": 99,
   "metadata": {},
   "outputs": [
    {
     "data": {
      "text/plain": [
       "array([  30.96096082,   71.98951442,   66.74162668,   92.67803115,\n",
       "         51.4418401 ,   73.81850719,   56.3426143 ,  110.28738989,\n",
       "         62.73747035,  126.74074901,   47.96295165,   77.80008883,\n",
       "        101.08002772,   70.28829726,   83.98830657,   81.53353579,\n",
       "         33.17500708,   29.86468277,   23.7790818 ,   28.31622093,\n",
       "         75.94100105,   66.35948384,   73.04070599,   62.88798993,\n",
       "        106.11717025,  130.34304112,   92.94347845,   26.39626703,\n",
       "         74.8673931 ,   88.45614838,  139.91682336,  145.39519563,\n",
       "        111.0986016 ,   66.89061087,   51.51689224,   34.31590149,\n",
       "         38.47536644,   42.47608102,   88.13955466,   99.0070668 ,\n",
       "        255.0403519 ,  247.46613947,  264.85800519,  237.99721008])"
      ]
     },
     "execution_count": 99,
     "metadata": {},
     "output_type": "execute_result"
    }
   ],
   "source": [
    "euclideos1\n"
   ]
  },
  {
   "cell_type": "code",
   "execution_count": 106,
   "metadata": {},
   "outputs": [
    {
     "name": "stdout",
     "output_type": "stream",
     "text": [
      "30.9609608223\n",
      "71.9895144167\n",
      "66.7416266763\n",
      "92.6780311545\n",
      "51.4418401034\n",
      "73.8185071925\n",
      "56.3426142982\n",
      "110.287389886\n",
      "62.7374703503\n",
      "126.740749006\n",
      "47.9629516544\n",
      "77.8000888323\n",
      "101.080027721\n",
      "70.2882972578\n",
      "83.98830657\n",
      "81.5335357916\n",
      "33.1750070843\n",
      "29.8646827684\n",
      "23.7790818032\n",
      "28.3162209302\n",
      "75.9410010501\n",
      "66.3594838365\n",
      "73.0407059892\n",
      "62.8879899254\n",
      "106.117170252\n",
      "130.343041118\n",
      "92.9434784477\n",
      "26.396267032\n",
      "74.8673931\n",
      "88.4561483785\n",
      "139.916823358\n",
      "145.395195633\n",
      "111.098601597\n",
      "66.8906108681\n",
      "51.5168922389\n",
      "34.3159014896\n",
      "38.4753664351\n",
      "42.4760810184\n",
      "88.1395546565\n",
      "99.0070668026\n",
      "255.040351896\n",
      "247.466139474\n",
      "264.85800519\n",
      "237.997210076\n"
     ]
    }
   ],
   "source": [
    "media=euclideos1.sum()/euclideos1.size\n",
    "media_aux=np.array([[ 176.  202.]])\n",
    "for n in euclideos1:\n",
    "    if (n<media):\n",
    "        "
   ]
  },
  {
   "cell_type": "code",
   "execution_count": null,
   "metadata": {
    "collapsed": true
   },
   "outputs": [],
   "source": [
    "euclideos1.size"
   ]
  },
  {
   "cell_type": "code",
   "execution_count": null,
   "metadata": {
    "collapsed": true
   },
   "outputs": [],
   "source": []
  }
 ],
 "metadata": {
  "kernelspec": {
   "display_name": "Python 2",
   "language": "python",
   "name": "python2"
  },
  "language_info": {
   "codemirror_mode": {
    "name": "ipython",
    "version": 2
   },
   "file_extension": ".py",
   "mimetype": "text/x-python",
   "name": "python",
   "nbconvert_exporter": "python",
   "pygments_lexer": "ipython2",
   "version": "2.7.14"
  }
 },
 "nbformat": 4,
 "nbformat_minor": 2
}
