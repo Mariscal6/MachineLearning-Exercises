{
 "cells": [
  {
   "cell_type": "code",
   "execution_count": 89,
   "metadata": {
    "collapsed": true
   },
   "outputs": [],
   "source": [
    "import numpy as np\n",
    "file_object=open(\"TimeSerie\", \"r\")\n",
    "array_aux=[]\n",
    "for line in  file_object:\n",
    "    if line!='err\\n':\n",
    "        s=line.replace(\"\\n\",\"\")\n",
    "        x=float(s)\n",
    "        array_aux.append(x)\n",
    "    else:        \n",
    "        array_aux.append('err')\n",
    "        \n",
    "    "
   ]
  },
  {
   "cell_type": "code",
   "execution_count": 90,
   "metadata": {},
   "outputs": [
    {
     "data": {
      "text/plain": [
       "[34.2,\n",
       " 33.0,\n",
       " 32.0,\n",
       " 31.2,\n",
       " 'err',\n",
       " 27.2,\n",
       " 22.0,\n",
       " 21.0,\n",
       " 'err',\n",
       " 21.0,\n",
       " 24.0,\n",
       " 28.4,\n",
       " 29.7,\n",
       " 30.0,\n",
       " 'err']"
      ]
     },
     "execution_count": 90,
     "metadata": {},
     "output_type": "execute_result"
    }
   ],
   "source": [
    "array_aux"
   ]
  },
  {
   "cell_type": "code",
   "execution_count": 94,
   "metadata": {},
   "outputs": [],
   "source": [
    "for i in range (len(array_aux)):\n",
    "    if array_aux[i]=='err':\n",
    "        try:\n",
    "            array_aux[i]=(array_aux[i+1]+array_aux[i-1])/2\n",
    "        except IndexError:\n",
    "            array_aux[i]=array_aux[i-1]"
   ]
  },
  {
   "cell_type": "code",
   "execution_count": 95,
   "metadata": {},
   "outputs": [
    {
     "data": {
      "text/plain": [
       "[34.2,\n",
       " 33.0,\n",
       " 32.0,\n",
       " 31.2,\n",
       " 29.2,\n",
       " 27.2,\n",
       " 22.0,\n",
       " 21.0,\n",
       " 21.0,\n",
       " 21.0,\n",
       " 24.0,\n",
       " 28.4,\n",
       " 29.7,\n",
       " 30.0,\n",
       " 30.0]"
      ]
     },
     "execution_count": 95,
     "metadata": {},
     "output_type": "execute_result"
    }
   ],
   "source": [
    "array_aux"
   ]
  },
  {
   "cell_type": "code",
   "execution_count": 100,
   "metadata": {},
   "outputs": [
    {
     "name": "stdout",
     "output_type": "stream",
     "text": [
      "[ -2.00000000e-01  -1.00000000e-01  -2.77555756e-17   1.00000000e-01\n",
      "   2.00000000e-01   3.00000000e-01   4.00000000e-01   5.00000000e-01\n",
      "   6.00000000e-01   7.00000000e-01   8.00000000e-01   9.00000000e-01\n",
      "   1.00000000e+00   1.10000000e+00   1.20000000e+00]\n"
     ]
    }
   ],
   "source": [
    "x=np.linspace(-0.2,1.2,15)\n",
    "print x"
   ]
  },
  {
   "cell_type": "code",
   "execution_count": 110,
   "metadata": {},
   "outputs": [
    {
     "data": {
      "image/png": "[encoded data removed]",
      "text/plain": [
       "<matplotlib.figure.Figure at 0x7f3e377eee10>"
      ]
     },
     "metadata": {},
     "output_type": "display_data"
    }
   ],
   "source": [
    "import matplotlib.pyplot as plt \n",
    "plt.plot(x,array_aux,'bo')\n",
    "plt.show()"
   ]
  },
  {
   "cell_type": "code",
   "execution_count": 114,
   "metadata": {},
   "outputs": [
    {
     "data": {
      "image/png": "[encoded data removed]",
      "text/plain": [
       "<matplotlib.figure.Figure at 0x7f3e373be650>"
      ]
     },
     "metadata": {},
     "output_type": "display_data"
    }
   ],
   "source": [
    "plt.plot(x,array_aux,'b')\n",
    "plt.show()"
   ]
  },
  {
   "cell_type": "code",
   "execution_count": 142,
   "metadata": {},
   "outputs": [],
   "source": [
    "array9=np.array([ 0., -1.2, -1., -0.8, -2., -2., -5.2, -1., 0., 0., 3., 4.4, 1.3, 0.3,\n",
    "0. ])"
   ]
  },
  {
   "cell_type": "code",
   "execution_count": 147,
   "metadata": {},
   "outputs": [],
   "source": [
    "array9_aux=np.copy(array9)\n",
    "array9_aux=np.delete(array9_aux,0)\n",
    "array9_aux=np.append(array9_aux,array9[len(array9_aux)])"
   ]
  },
  {
   "cell_type": "code",
   "execution_count": 148,
   "metadata": {},
   "outputs": [
    {
     "data": {
      "text/plain": [
       "array([-1.2, -1. , -0.8, -2. , -2. , -5.2, -1. ,  0. ,  0. ,  3. ,  4.4,\n",
       "        1.3,  0.3,  0. ,  0. ])"
      ]
     },
     "execution_count": 148,
     "metadata": {},
     "output_type": "execute_result"
    }
   ],
   "source": [
    "array9_aux"
   ]
  },
  {
   "cell_type": "code",
   "execution_count": 177,
   "metadata": {},
   "outputs": [
    {
     "data": {
      "image/png": "[encoded data removed]",
      "text/plain": [
       "<matplotlib.figure.Figure at 0x7f3e3706ae10>"
      ]
     },
     "metadata": {},
     "output_type": "display_data"
    }
   ],
   "source": [
    "plt.plot(array9,'b')\n",
    "plt.plot(array9,'o',color='#070719')\n",
    "\n",
    "plt.show()"
   ]
  },
  {
   "cell_type": "code",
   "execution_count": null,
   "metadata": {
    "collapsed": true
   },
   "outputs": [],
   "source": []
  },
  {
   "cell_type": "code",
   "execution_count": null,
   "metadata": {
    "collapsed": true
   },
   "outputs": [],
   "source": []
  }
 ],
 "metadata": {
  "kernelspec": {
   "display_name": "Python 2",
   "language": "python",
   "name": "python2"
  },
  "language_info": {
   "codemirror_mode": {
    "name": "ipython",
    "version": 2
   },
   "file_extension": ".py",
   "mimetype": "text/x-python",
   "name": "python",
   "nbconvert_exporter": "python",
   "pygments_lexer": "ipython2",
   "version": "2.7.14"
  }
 },
 "nbformat": 4,
 "nbformat_minor": 2
}
