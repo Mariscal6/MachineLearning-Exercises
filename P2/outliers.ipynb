{
 "cells": [
  {
   "cell_type": "code",
   "execution_count": 60,
   "metadata": {},
   "outputs": [],
   "source": [
    "import numpy as np\n",
    "import matplotlib.pyplot as mpl"
   ]
  },
  {
   "cell_type": "code",
   "execution_count": 61,
   "metadata": {},
   "outputs": [
    {
     "name": "stdout",
     "output_type": "stream",
     "text": [
      "[[176. 202.]\n",
      " [220. 120.]\n",
      " [208. 257.]\n",
      " [120. 228.]\n",
      " [155. 177.]\n",
      " [230. 121.]\n",
      " [261. 192.]\n",
      " [151.  94.]\n",
      " [145. 171.]\n",
      " [331. 180.]\n",
      " [229. 149.]\n",
      " [200. 268.]\n",
      " [301. 221.]\n",
      " [239. 129.]\n",
      " [136. 142.]\n",
      " [164. 261.]\n",
      " [223. 218.]\n",
      " [228. 209.]\n",
      " [228. 195.]\n",
      " [184. 171.]\n",
      " [144. 236.]\n",
      " [271. 188.]\n",
      " [272. 162.]\n",
      " [241. 139.]\n",
      " [277. 268.]\n",
      " [153. 310.]\n",
      " [148. 264.]\n",
      " [181. 202.]\n",
      " [249. 130.]\n",
      " [237. 108.]\n",
      " [192.  51.]\n",
      " [110.  80.]\n",
      " [ 97. 163.]\n",
      " [139. 203.]\n",
      " [179. 235.]\n",
      " [198. 224.]\n",
      " [227. 159.]\n",
      " [233. 222.]\n",
      " [256. 262.]\n",
      " [273. 262.]\n",
      " [383.   8.]\n",
      " [366. 378.]\n",
      " [ 24. 384.]\n",
      " [ 27.  32.]]\n"
     ]
    }
   ],
   "source": [
    "outliers = np.loadtxt(\"outliers.txt\", delimiter=',')\n",
    "print outliers"
   ]
  },
  {
   "cell_type": "code",
   "execution_count": 62,
   "metadata": {},
   "outputs": [
    {
     "name": "stdout",
     "output_type": "stream",
     "text": [
      "[176. 220. 208. 120. 155. 230. 261. 151. 145. 331. 229. 200. 301. 239.\n",
      " 136. 164. 223. 228. 228. 184. 144. 271. 272. 241. 277. 153. 148. 181.\n",
      " 249. 237. 192. 110.  97. 139. 179. 198. 227. 233. 256. 273. 383. 366.\n",
      "  24.  27.]\n",
      "[202. 120. 257. 228. 177. 121. 192.  94. 171. 180. 149. 268. 221. 129.\n",
      " 142. 261. 218. 209. 195. 171. 236. 188. 162. 139. 268. 310. 264. 202.\n",
      " 130. 108.  51.  80. 163. 203. 235. 224. 159. 222. 262. 262.   8. 378.\n",
      " 384.  32.]\n"
     ]
    }
   ],
   "source": [
    "xs = np.empty(len(outliers))\n",
    "ys = np.empty(len(outliers))\n",
    "for i in range(len (outliers)):\n",
    "    xs[i] = outliers[i][0]\n",
    "for i in range(len (outliers)):\n",
    "    ys[i] = outliers[i][1]\n",
    "print xs\n",
    "print ys\n",
    "    "
   ]
  },
  {
   "cell_type": "code",
   "execution_count": 63,
   "metadata": {},
   "outputs": [
    {
     "data": {
      "text/plain": [
       "[<matplotlib.lines.Line2D at 0x7f77892f2310>]"
      ]
     },
     "execution_count": 63,
     "metadata": {},
     "output_type": "execute_result"
    },
    {
     "data": {
      "image/png": "[encoded data removed]",
      "text/plain": [
       "<matplotlib.figure.Figure at 0x7f778949fcd0>"
      ]
     },
     "metadata": {},
     "output_type": "display_data"
    }
   ],
   "source": [
    "mpl.plot(xs,ys,'o')"
   ]
  },
  {
   "cell_type": "code",
   "execution_count": 64,
   "metadata": {},
   "outputs": [],
   "source": [
    "def centroid(xs,ys):\n",
    "    sum_xs = np.sum(xs)\n",
    "    sum_ys = np.sum(ys)\n",
    "    return sum_xs/len(xs), sum_ys/len(ys)\n",
    "\n",
    "centroide = centroid(xs,ys)"
   ]
  },
  {
   "cell_type": "code",
   "execution_count": 65,
   "metadata": {},
   "outputs": [
    {
     "data": {
      "text/plain": [
       "[<matplotlib.lines.Line2D at 0x7f7789277510>,\n",
       " <matplotlib.lines.Line2D at 0x7f7789277590>]"
      ]
     },
     "execution_count": 65,
     "metadata": {},
     "output_type": "execute_result"
    },
    {
     "data": {
      "image/png": "[encoded data removed]",
      "text/plain": [
       "<matplotlib.figure.Figure at 0x7f77893a7990>"
      ]
     },
     "metadata": {},
     "output_type": "display_data"
    }
   ],
   "source": [
    "mpl.plot(xs,ys,'o',centroide[0],centroide[1],'ro')"
   ]
  },
  {
   "cell_type": "code",
   "execution_count": 81,
   "metadata": {},
   "outputs": [
    {
     "name": "stdout",
     "output_type": "stream",
     "text": [
      "[ 30.96096082  71.98951442  66.74162668  92.67803115  51.4418401\n",
      "  73.81850719  56.3426143  110.28738989  62.73747035 126.74074901\n",
      "  47.96295165  77.80008883 101.08002772  70.28829726  83.98830657\n",
      "  81.53353579  33.17500708  29.86468277  23.7790818   28.31622093\n",
      "  75.94100105  66.35948384  73.04070599  62.88798993 106.11717025\n",
      " 130.34304112  92.94347845  26.39626703  74.8673931   88.45614838\n",
      " 139.91682336 145.39519563 111.0986016   66.89061087  51.51689224\n",
      "  34.31590149  38.47536644  42.47608102  88.13955466  99.0070668\n",
      " 255.0403519  247.46613947 264.85800519 237.99721008]\n"
     ]
    }
   ],
   "source": [
    "euclidean = np.empty(len(xs))\n",
    "for i in range(len(xs)):\n",
    "    euclidean[i] = np.sqrt(((xs[i]-centroide[0])**2) + ((ys[i]-centroide[1]))**2)\n",
    "    \n",
    "print euclidean"
   ]
  },
  {
   "cell_type": "code",
   "execution_count": 83,
   "metadata": {},
   "outputs": [
    {
     "name": "stdout",
     "output_type": "stream",
     "text": [
      "74.34295014624983\n"
     ]
    }
   ],
   "source": [
    "distanciamediacentr = np.median(euclidean)\n",
    "print distanciamediacentr"
   ]
  },
  {
   "cell_type": "code",
   "execution_count": 91,
   "metadata": {},
   "outputs": [
    {
     "name": "stdout",
     "output_type": "stream",
     "text": [
      "37.17147507312492\n"
     ]
    }
   ],
   "source": [
    "div2medcentr = distanciamediacentr / 2\n",
    "print div2medcentr"
   ]
  },
  {
   "cell_type": "code",
   "execution_count": 103,
   "metadata": {},
   "outputs": [
    {
     "name": "stdout",
     "output_type": "stream",
     "text": [
      "[198. 224.]\n"
     ]
    }
   ],
   "source": [
    "outliersres = np.empty(0)\n",
    "for i in range(len(euclidean)):\n",
    "    if euclidean[i] < div2medcentr:\n",
    "        outliersres = outliers[i]\n",
    "print outliersres"
   ]
  },
  {
   "cell_type": "code",
   "execution_count": null,
   "metadata": {},
   "outputs": [],
   "source": []
  }
 ],
 "metadata": {
  "kernelspec": {
   "display_name": "Python 2",
   "language": "python",
   "name": "python2"
  },
  "language_info": {
   "codemirror_mode": {
    "name": "ipython",
    "version": 2
   },
   "file_extension": ".py",
   "mimetype": "text/x-python",
   "name": "python",
   "nbconvert_exporter": "python",
   "pygments_lexer": "ipython2",
   "version": "2.7.14"
  }
 },
 "nbformat": 4,
 "nbformat_minor": 2
}
