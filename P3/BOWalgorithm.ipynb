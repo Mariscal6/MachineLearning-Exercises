{
 "cells": [
  {
   "cell_type": "code",
   "execution_count": 71,
   "metadata": {},
   "outputs": [],
   "source": [
    "import numpy as np\n",
    "from collections import Counter"
   ]
  },
  {
   "cell_type": "code",
   "execution_count": 69,
   "metadata": {},
   "outputs": [],
   "source": [
    "#Abrimos archivo y quitamos signos de puntuación\n",
    "data = open('bow.txt','r')\n",
    "data = data.read()\n",
    "data = data.replace(\".\",'')\n",
    "data = data.replace(\",\",'')\n",
    "data = data.replace(\"!\",'')\n",
    "data = data.replace('\"','')\n",
    "data = data.replace(\"'\",'')\n",
    "data = data.replace(\"-\",'')\n",
    "data = data.replace(\";\",'')\n",
    "data = data.replace(\"?\",'')\n",
    "data = data.replace(\"\",'')"
   ]
  },
  {
   "cell_type": "code",
   "execution_count": 70,
   "metadata": {},
   "outputs": [],
   "source": [
    "#Se crea el diccionario de apariciones de palabras\n",
    "example = np.array(data.split(\" \"))\n",
    "example = np.delete(example,np.where(example==''))\n",
    "unique, counts = np.unique(example, return_counts=True)\n",
    "dictionary = dict(zip(unique,counts))"
   ]
  },
  {
   "cell_type": "code",
   "execution_count": 74,
   "metadata": {},
   "outputs": [
    {
     "data": {
      "text/plain": [
       "[('the', 78),\n",
       " ('he', 69),\n",
       " ('to', 60),\n",
       " ('and', 45),\n",
       " ('a', 44),\n",
       " ('of', 40),\n",
       " ('that', 39),\n",
       " ('his', 34),\n",
       " ('was', 29),\n",
       " ('it', 26),\n",
       " ('have', 23),\n",
       " ('in', 18),\n",
       " ('with', 18),\n",
       " ('at', 18),\n",
       " ('would', 17),\n",
       " ('I', 16),\n",
       " ('on', 16),\n",
       " ('up', 16),\n",
       " ('all', 14),\n",
       " ('not', 14)]"
      ]
     },
     "execution_count": 74,
     "metadata": {},
     "output_type": "execute_result"
    }
   ],
   "source": [
    "#Se seleccionan las 20 mejores con la clase Counter\n",
    "c = Counter(dictionary)\n",
    "c.most_common(20)"
   ]
  }
 ],
 "metadata": {
  "kernelspec": {
   "display_name": "Python 2",
   "language": "python",
   "name": "python2"
  },
  "language_info": {
   "codemirror_mode": {
    "name": "ipython",
    "version": 2
   },
   "file_extension": ".py",
   "mimetype": "text/x-python",
   "name": "python",
   "nbconvert_exporter": "python",
   "pygments_lexer": "ipython2",
   "version": "2.7.14"
  }
 },
 "nbformat": 4,
 "nbformat_minor": 2
}
