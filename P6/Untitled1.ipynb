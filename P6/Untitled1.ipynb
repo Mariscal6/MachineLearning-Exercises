{
 "cells": [
  {
   "cell_type": "code",
   "execution_count": 29,
   "metadata": {},
   "outputs": [],
   "source": [
    "import pandas as pd\n",
    "import numpy as np\n",
    "from sklearn.grid_search import RandomizedSearchCV\n",
    "from sklearn.neighbors import KNeighborsClassifier\n",
    "from sklearn.ensemble import RandomForestClassifier\n",
    "from sklearn.ensemble import AdaBoostClassifier\n",
    "from sklearn.ensemble import GradientBoostingClassifier\n",
    "from sklearn.svm import SVC"
   ]
  },
  {
   "cell_type": "code",
   "execution_count": 30,
   "metadata": {},
   "outputs": [
    {
     "name": "stdout",
     "output_type": "stream",
     "text": [
      "['age', 'fnlwgt', 'education-num', 'capital-gain', 'capital-loss', 'hours-per-week', 'workclass_ ?', 'workclass_ Federal-gov', 'workclass_ Local-gov', 'workclass_ Never-worked', 'workclass_ Private', 'workclass_ Self-emp-inc', 'workclass_ Self-emp-not-inc', 'workclass_ State-gov', 'workclass_ Without-pay', 'education_ 10th', 'education_ 11th', 'education_ 12th', 'education_ 1st-4th', 'education_ 5th-6th', 'education_ 7th-8th', 'education_ 9th', 'education_ Assoc-acdm', 'education_ Assoc-voc', 'education_ Bachelors', 'education_ Doctorate', 'education_ HS-grad', 'education_ Masters', 'education_ Preschool', 'education_ Prof-school', 'education_ Some-college', 'marital-status_ Divorced', 'marital-status_ Married-AF-spouse', 'marital-status_ Married-civ-spouse', 'marital-status_ Married-spouse-absent', 'marital-status_ Never-married', 'marital-status_ Separated', 'marital-status_ Widowed', 'occupation_ ?', 'occupation_ Adm-clerical', 'occupation_ Armed-Forces', 'occupation_ Craft-repair', 'occupation_ Exec-managerial', 'occupation_ Farming-fishing', 'occupation_ Handlers-cleaners', 'occupation_ Machine-op-inspct', 'occupation_ Other-service', 'occupation_ Priv-house-serv', 'occupation_ Prof-specialty', 'occupation_ Protective-serv', 'occupation_ Sales', 'occupation_ Tech-support', 'occupation_ Transport-moving', 'relationship_ Husband', 'relationship_ Not-in-family', 'relationship_ Other-relative', 'relationship_ Own-child', 'relationship_ Unmarried', 'relationship_ Wife', 'race_ Amer-Indian-Eskimo', 'race_ Asian-Pac-Islander', 'race_ Black', 'race_ Other', 'race_ White', 'sex_ Female', 'sex_ Male', 'native-country_ ?', 'native-country_ Cambodia', 'native-country_ Canada', 'native-country_ China', 'native-country_ Columbia', 'native-country_ Cuba', 'native-country_ Dominican-Republic', 'native-country_ Ecuador', 'native-country_ El-Salvador', 'native-country_ England', 'native-country_ France', 'native-country_ Germany', 'native-country_ Greece', 'native-country_ Guatemala', 'native-country_ Haiti', 'native-country_ Holand-Netherlands', 'native-country_ Honduras', 'native-country_ Hong', 'native-country_ Hungary', 'native-country_ India', 'native-country_ Iran', 'native-country_ Ireland', 'native-country_ Italy', 'native-country_ Jamaica', 'native-country_ Japan', 'native-country_ Laos', 'native-country_ Mexico', 'native-country_ Nicaragua', 'native-country_ Outlying-US(Guam-USVI-etc)', 'native-country_ Peru', 'native-country_ Philippines', 'native-country_ Poland', 'native-country_ Portugal', 'native-country_ Puerto-Rico', 'native-country_ Scotland', 'native-country_ South', 'native-country_ Taiwan', 'native-country_ Thailand', 'native-country_ Trinadad&Tobago', 'native-country_ United-States', 'native-country_ Vietnam', 'native-country_ Yugoslavia', 'income_ <=50K', 'income_ >50K']\n"
     ]
    }
   ],
   "source": [
    "data = pd.read_csv('adult.data',header=None,index_col=False,names=['age', 'workclass', 'fnlwgt', 'education', 'education-num', \n",
    "                                                                   'marital-status', 'occupation', 'relationship', \n",
    "                                                                   'race', 'sex', 'capital-gain', 'capital-loss','hours-per-week'\n",
    "                                                                  ,'native-country', 'income']) \n",
    "data_dummies = pd.get_dummies(data)\n",
    "print(list(data_dummies))\n",
    "features = data_dummies.loc[:,'age':'native-country_ Yugoslavia']\n",
    "X = features.values\n",
    "y = data_dummies['income_ <=50K'].values"
   ]
  },
  {
   "cell_type": "code",
   "execution_count": 13,
   "metadata": {},
   "outputs": [
    {
     "name": "stdout",
     "output_type": "stream",
     "text": [
      "[mean: 0.79362, std: 0.00418, params: {'n_neighbors': 16, 'weights': 'distance'}, mean: 0.79884, std: 0.00457, params: {'n_neighbors': 22, 'weights': 'uniform'}, mean: 0.79681, std: 0.00481, params: {'n_neighbors': 18, 'weights': 'uniform'}, mean: 0.79887, std: 0.00403, params: {'n_neighbors': 27, 'weights': 'uniform'}, mean: 0.79936, std: 0.00415, params: {'n_neighbors': 29, 'weights': 'uniform'}]\n",
      "0.79936119898\n",
      "{'n_neighbors': 29, 'weights': 'uniform'}\n"
     ]
    }
   ],
   "source": [
    "#KNN\n",
    "knn = KNeighborsClassifier()\n",
    "#Busqueda de los mejores parametros\n",
    "k_range = list(range(1, 31))\n",
    "weight_options = ['uniform', 'distance']\n",
    "param_dist = dict(n_neighbors=k_range, weights=weight_options)\n",
    "rand = RandomizedSearchCV(knn,param_dist,cv=10,scoring='accuracy',\n",
    "                         n_iter=5,random_state=5)\n",
    "rand.fit(X,y)\n",
    "print(rand.grid_scores_)\n",
    "print(rand.best_score_)\n",
    "print(rand.best_params_)"
   ]
  },
  {
   "cell_type": "code",
   "execution_count": 14,
   "metadata": {},
   "outputs": [
    {
     "name": "stdout",
     "output_type": "stream",
     "text": [
      "[mean: 0.85762, std: 0.00715, params: {'n_estimators': 28, 'criterion': 'gini', 'max_depth': 29}, mean: 0.84939, std: 0.00753, params: {'n_estimators': 27, 'criterion': 'gini', 'max_depth': 7}, mean: 0.85633, std: 0.00490, params: {'n_estimators': 16, 'criterion': 'entropy', 'max_depth': 28}, mean: 0.82021, std: 0.00792, params: {'n_estimators': 9, 'criterion': 'entropy', 'max_depth': 4}, mean: 0.84377, std: 0.00821, params: {'n_estimators': 3, 'criterion': 'entropy', 'max_depth': 9}]\n",
      "0.857621080434\n",
      "{'n_estimators': 28, 'criterion': 'gini', 'max_depth': 29}\n"
     ]
    }
   ],
   "source": [
    "#RandomForest\n",
    "rf = RandomForestClassifier()\n",
    "#Busqueda de los parametros\n",
    "n_estimators = list(range(1,31))\n",
    "max_depth = list(range(1,31))\n",
    "criterion = ['gini','entropy']\n",
    "param_dist = dict(criterion = criterion, max_depth=max_depth,\n",
    "                 n_estimators=n_estimators)\n",
    "rand = RandomizedSearchCV(rf,param_dist,cv=10,scoring='accuracy',\n",
    "                         n_iter=5,random_state=5)\n",
    "rand.fit(X,y)\n",
    "print(rand.grid_scores_)\n",
    "print(rand.best_score_)\n",
    "print(rand.best_params_)"
   ]
  },
  {
   "cell_type": "code",
   "execution_count": 15,
   "metadata": {},
   "outputs": [
    {
     "name": "stdout",
     "output_type": "stream",
     "text": [
      "[mean: 0.81935, std: 0.00587, params: {'n_estimators': 2, 'algorithm': 'SAMME.R'}, mean: 0.85194, std: 0.00656, params: {'n_estimators': 13, 'algorithm': 'SAMME.R'}, mean: 0.84313, std: 0.00652, params: {'n_estimators': 5, 'algorithm': 'SAMME.R'}, mean: 0.85406, std: 0.00551, params: {'n_estimators': 23, 'algorithm': 'SAMME.R'}, mean: 0.85498, std: 0.00540, params: {'n_estimators': 27, 'algorithm': 'SAMME.R'}]\n",
      "0.85497988391\n",
      "{'n_estimators': 27, 'algorithm': 'SAMME.R'}\n"
     ]
    }
   ],
   "source": [
    "#Adaboost\n",
    "ab = AdaBoostClassifier()\n",
    "#Busqueda de los parametros\n",
    "n_estimators = list(range(1,31))\n",
    "algorithm = ['SAMME','SAMME.R']\n",
    "param_dist = dict(algorithm=algorithm,n_estimators=n_estimators)\n",
    "rand = RandomizedSearchCV(ab,param_dist,cv=10,scoring='accuracy',\n",
    "                         n_iter=5,random_state=5)\n",
    "rand.fit(X,y)\n",
    "print(rand.grid_scores_)\n",
    "print(rand.best_score_)\n",
    "print(rand.best_params_)"
   ]
  },
  {
   "cell_type": "code",
   "execution_count": 16,
   "metadata": {},
   "outputs": [
    {
     "name": "stderr",
     "output_type": "stream",
     "text": [
      "/home/jaime/Aplicaciones/anaconda2/envs/Min/lib/python2.7/site-packages/sklearn/svm/base.py:218: ConvergenceWarning: Solver terminated early (max_iter=5).  Consider pre-processing your data with StandardScaler or MinMaxScaler.\n",
      "  % self.max_iter, ConvergenceWarning)\n",
      "/home/jaime/Aplicaciones/anaconda2/envs/Min/lib/python2.7/site-packages/sklearn/svm/base.py:218: ConvergenceWarning: Solver terminated early (max_iter=7).  Consider pre-processing your data with StandardScaler or MinMaxScaler.\n",
      "  % self.max_iter, ConvergenceWarning)\n",
      "/home/jaime/Aplicaciones/anaconda2/envs/Min/lib/python2.7/site-packages/sklearn/svm/base.py:218: ConvergenceWarning: Solver terminated early (max_iter=8).  Consider pre-processing your data with StandardScaler or MinMaxScaler.\n",
      "  % self.max_iter, ConvergenceWarning)\n",
      "/home/jaime/Aplicaciones/anaconda2/envs/Min/lib/python2.7/site-packages/sklearn/svm/base.py:218: ConvergenceWarning: Solver terminated early (max_iter=9).  Consider pre-processing your data with StandardScaler or MinMaxScaler.\n",
      "  % self.max_iter, ConvergenceWarning)\n",
      "/home/jaime/Aplicaciones/anaconda2/envs/Min/lib/python2.7/site-packages/sklearn/svm/base.py:218: ConvergenceWarning: Solver terminated early (max_iter=3).  Consider pre-processing your data with StandardScaler or MinMaxScaler.\n",
      "  % self.max_iter, ConvergenceWarning)\n"
     ]
    },
    {
     "name": "stdout",
     "output_type": "stream",
     "text": [
      "[mean: 0.76011, std: 0.00132, params: {'kernel': 'poly', 'max_iter': 5}, mean: 0.75919, std: 0.00007, params: {'kernel': 'sigmoid', 'max_iter': 7}, mean: 0.70713, std: 0.15545, params: {'kernel': 'rbf', 'max_iter': 8}, mean: 0.65520, std: 0.20698, params: {'kernel': 'poly', 'max_iter': 9}, mean: 0.29283, std: 0.15546, params: {'kernel': 'rbf', 'max_iter': 3}]\n",
      "0.760111790178\n",
      "{'kernel': 'poly', 'max_iter': 5}\n"
     ]
    }
   ],
   "source": [
    "#SVM->SVC\n",
    "svc = SVC()\n",
    "#Busqueda de los parametros\n",
    "kernel = ['linear','poly','rbf','sigmoid','precomputed']\n",
    "max_iter = list(range(-1,10))\n",
    "param_dist = dict(kernel=kernel,max_iter=max_iter)\n",
    "rand = RandomizedSearchCV(svc,param_dist,cv=10,scoring='accuracy',\n",
    "                         n_iter=5,random_state=5)\n",
    "rand.fit(X,y)\n",
    "print(rand.grid_scores_)\n",
    "print(rand.best_score_)\n",
    "print(rand.best_params_)"
   ]
  },
  {
   "cell_type": "code",
   "execution_count": null,
   "metadata": {},
   "outputs": [],
   "source": [
    "#GradientBoost\n",
    "gb = GradientBoostingClassifier()\n",
    "#Busqueda de los parametros\n",
    "n_estimators = list(range(1,31))\n",
    "max_depth = list(range(1,31))\n",
    "min_samples_leaf = list(range(1,11))\n",
    "min_samples_split = list(range(1,11))\n",
    "criterion = ['friedman_mse','mse','mae']\n",
    "param_dist = dict(criterion = criterion, max_depth=max_depth,\n",
    "                 n_estimators=n_estimators,min_samples_leaf=min_samples_leaf,\n",
    "                 min_samples_split=min_samples_split)\n",
    "rand = RandomizedSearchCV(gb,param_dist,cv=10,scoring='accuracy',\n",
    "                         n_iter=5,random_state=5)\n",
    "rand.fit(X,y)\n",
    "print(rand.grid_scores_)\n",
    "print(rand.best_score_)\n",
    "print(rand.best_params_)"
   ]
  }
 ],
 "metadata": {
  "kernelspec": {
   "display_name": "Python 2",
   "language": "python",
   "name": "python2"
  },
  "language_info": {
   "codemirror_mode": {
    "name": "ipython",
    "version": 2
   },
   "file_extension": ".py",
   "mimetype": "text/x-python",
   "name": "python",
   "nbconvert_exporter": "python",
   "pygments_lexer": "ipython2",
   "version": "2.7.14"
  }
 },
 "nbformat": 4,
 "nbformat_minor": 2
}
