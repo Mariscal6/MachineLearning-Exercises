{
 "cells": [
  {
   "cell_type": "code",
   "execution_count": 19,
   "metadata": {},
   "outputs": [],
   "source": [
    "import pandas as pd\n",
    "import numpy as np\n",
    "from sklearn.grid_search import RandomizedSearchCV\n",
    "from sklearn.neighbors import KNeighborsClassifier\n",
    "from sklearn.ensemble import RandomForestClassifier\n",
    "from sklearn.ensemble import AdaBoostClassifier\n",
    "from sklearn.svm import SVC"
   ]
  },
  {
   "cell_type": "code",
   "execution_count": 3,
   "metadata": {},
   "outputs": [],
   "source": [
    "#Lectura de archivo y dummies\n",
    "data = pd.read_csv('wine.data',names=[\"target\",\"Alcohol\",\"Malic_acid\",\"Ash\",\"Alcalinity_of_ash\",\"Magnesium\",\"Total_phenols\",\"Flavanoids\",\"Nonflavanoid_phenols\",\"Proanthocyanins\",\"Color_intensity\",\"Hue\",\"OD280_OD315\",\"Proline\"])\n",
    "data_dummies = pd.get_dummies(data)\n",
    "features = data_dummies.loc[:,'Alcohol':'Proline']\n",
    "X = features.values\n",
    "y = data_dummies['target'].values"
   ]
  },
  {
   "cell_type": "code",
   "execution_count": 11,
   "metadata": {},
   "outputs": [
    {
     "name": "stdout",
     "output_type": "stream",
     "text": [
      "[mean: 0.73596, std: 0.10050, params: {'n_neighbors': 16, 'weights': 'distance'}, mean: 0.71348, std: 0.07268, params: {'n_neighbors': 22, 'weights': 'uniform'}, mean: 0.71348, std: 0.07268, params: {'n_neighbors': 18, 'weights': 'uniform'}, mean: 0.70787, std: 0.06971, params: {'n_neighbors': 27, 'weights': 'uniform'}, mean: 0.71348, std: 0.06362, params: {'n_neighbors': 29, 'weights': 'uniform'}, mean: 0.71910, std: 0.07459, params: {'n_neighbors': 10, 'weights': 'distance'}, mean: 0.74719, std: 0.10724, params: {'n_neighbors': 22, 'weights': 'distance'}, mean: 0.68539, std: 0.07600, params: {'n_neighbors': 14, 'weights': 'uniform'}, mean: 0.73034, std: 0.07061, params: {'n_neighbors': 12, 'weights': 'distance'}, mean: 0.71910, std: 0.06255, params: {'n_neighbors': 15, 'weights': 'uniform'}]\n",
      "0.747191011236\n",
      "{'n_neighbors': 22, 'weights': 'distance'}\n"
     ]
    }
   ],
   "source": [
    "#KNN\n",
    "knn = KNeighborsClassifier()\n",
    "#Busqueda de los mejores parametros\n",
    "k_range = list(range(1, 31))\n",
    "weight_options = ['uniform', 'distance']\n",
    "param_dist = dict(n_neighbors=k_range, weights=weight_options)\n",
    "rand = RandomizedSearchCV(knn,param_dist,cv=10,scoring='accuracy',\n",
    "                         n_iter=10,random_state=5)\n",
    "rand.fit(X,y)\n",
    "print(rand.grid_scores_)\n",
    "print(rand.best_score_)\n",
    "print(rand.best_params_)\n",
    "\n"
   ]
  },
  {
   "cell_type": "code",
   "execution_count": 15,
   "metadata": {},
   "outputs": [
    {
     "name": "stdout",
     "output_type": "stream",
     "text": [
      "[mean: 0.98315, std: 0.02502, params: {'n_estimators': 28, 'criterion': 'gini', 'max_depth': 29}, mean: 0.96067, std: 0.04329, params: {'n_estimators': 27, 'criterion': 'gini', 'max_depth': 7}, mean: 0.97753, std: 0.02687, params: {'n_estimators': 16, 'criterion': 'entropy', 'max_depth': 28}, mean: 0.97191, std: 0.02750, params: {'n_estimators': 9, 'criterion': 'entropy', 'max_depth': 4}, mean: 0.93820, std: 0.05801, params: {'n_estimators': 3, 'criterion': 'entropy', 'max_depth': 9}, mean: 0.96629, std: 0.03564, params: {'n_estimators': 15, 'criterion': 'entropy', 'max_depth': 18}, mean: 0.96629, std: 0.04462, params: {'n_estimators': 14, 'criterion': 'gini', 'max_depth': 3}, mean: 0.97191, std: 0.04885, params: {'n_estimators': 13, 'criterion': 'entropy', 'max_depth': 5}, mean: 0.98315, std: 0.02502, params: {'n_estimators': 21, 'criterion': 'gini', 'max_depth': 25}, mean: 0.97191, std: 0.03625, params: {'n_estimators': 28, 'criterion': 'entropy', 'max_depth': 29}]\n",
      "0.983146067416\n",
      "{'n_estimators': 28, 'criterion': 'gini', 'max_depth': 29}\n"
     ]
    }
   ],
   "source": [
    "#RandomForest\n",
    "rf = RandomForestClassifier()\n",
    "#Busqueda de los parametros\n",
    "n_estimators = list(range(1,31))\n",
    "max_depth = list(range(1,31))\n",
    "criterion = ['gini','entropy']\n",
    "param_dist = dict(criterion = criterion, max_depth=max_depth,\n",
    "                 n_estimators=n_estimators)\n",
    "rand = RandomizedSearchCV(rf,param_dist,cv=10,scoring='accuracy',\n",
    "                         n_iter=10,random_state=5)\n",
    "rand.fit(X,y)\n",
    "print(rand.grid_scores_)\n",
    "print(rand.best_score_)\n",
    "print(rand.best_params_)"
   ]
  },
  {
   "cell_type": "code",
   "execution_count": 17,
   "metadata": {},
   "outputs": [
    {
     "name": "stdout",
     "output_type": "stream",
     "text": [
      "[mean: 0.82022, std: 0.07547, params: {'n_estimators': 2, 'algorithm': 'SAMME.R'}, mean: 0.85955, std: 0.14331, params: {'n_estimators': 13, 'algorithm': 'SAMME.R'}, mean: 0.89326, std: 0.11941, params: {'n_estimators': 5, 'algorithm': 'SAMME.R'}, mean: 0.87079, std: 0.14268, params: {'n_estimators': 23, 'algorithm': 'SAMME.R'}, mean: 0.87640, std: 0.14631, params: {'n_estimators': 27, 'algorithm': 'SAMME.R'}, mean: 0.94382, std: 0.06983, params: {'n_estimators': 20, 'algorithm': 'SAMME'}, mean: 0.87640, std: 0.14419, params: {'n_estimators': 14, 'algorithm': 'SAMME.R'}, mean: 0.93820, std: 0.08556, params: {'n_estimators': 27, 'algorithm': 'SAMME'}, mean: 0.93258, std: 0.09037, params: {'n_estimators': 24, 'algorithm': 'SAMME'}, mean: 0.94944, std: 0.06731, params: {'n_estimators': 29, 'algorithm': 'SAMME'}]\n",
      "0.949438202247\n",
      "{'n_estimators': 29, 'algorithm': 'SAMME'}\n"
     ]
    }
   ],
   "source": [
    "#Adaboost\n",
    "ab = AdaBoostClassifier()\n",
    "#Busqueda de los parametros\n",
    "n_estimators = list(range(1,31))\n",
    "algorithm = ['SAMME','SAMME.R']\n",
    "param_dist = dict(algorithm=algorithm,n_estimators=n_estimators)\n",
    "rand = RandomizedSearchCV(ab,param_dist,cv=10,scoring='accuracy',\n",
    "                         n_iter=10,random_state=5)\n",
    "rand.fit(X,y)\n",
    "print(rand.grid_scores_)\n",
    "print(rand.best_score_)\n",
    "print(rand.best_params_)"
   ]
  },
  {
   "cell_type": "code",
   "execution_count": 32,
   "metadata": {},
   "outputs": [
    {
     "name": "stdout",
     "output_type": "stream",
     "text": [
      "[mean: 0.56742, std: 0.12405, params: {'kernel': 'poly', 'max_iter': 5}, mean: 0.26966, std: 0.01439, params: {'kernel': 'sigmoid', 'max_iter': 7}, mean: 0.61236, std: 0.07273, params: {'kernel': 'rbf', 'max_iter': 8}, mean: 0.35955, std: 0.13167, params: {'kernel': 'poly', 'max_iter': 9}, mean: 0.43258, std: 0.09211, params: {'kernel': 'rbf', 'max_iter': 3}]\n",
      "0.612359550562\n",
      "{'kernel': 'rbf', 'max_iter': 8}\n"
     ]
    }
   ],
   "source": [
    "#SVM->SVC\n",
    "svc = SVC()\n",
    "#Busqueda de los parametros\n",
    "kernel = ['linear','poly','rbf','sigmoid','precomputed']\n",
    "max_iter = list(range(-1,10))\n",
    "param_dist = dict(kernel=kernel,max_iter=max_iter)\n",
    "rand = RandomizedSearchCV(svc,param_dist,cv=10,scoring='accuracy',\n",
    "                         n_iter=5,random_state=5)\n",
    "rand.fit(X,y)\n",
    "print(rand.grid_scores_)\n",
    "print(rand.best_score_)\n",
    "print(rand.best_params_)"
   ]
  }
 ],
 "metadata": {
  "kernelspec": {
   "display_name": "Python 2",
   "language": "python",
   "name": "python2"
  },
  "language_info": {
   "codemirror_mode": {
    "name": "ipython",
    "version": 2
   },
   "file_extension": ".py",
   "mimetype": "text/x-python",
   "name": "python",
   "nbconvert_exporter": "python",
   "pygments_lexer": "ipython2",
   "version": "2.7.14"
  }
 },
 "nbformat": 4,
 "nbformat_minor": 2
}
